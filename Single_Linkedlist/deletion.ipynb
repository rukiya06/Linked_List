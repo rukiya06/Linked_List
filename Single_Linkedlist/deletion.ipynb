{
 "cells": [
  {
   "cell_type": "code",
   "execution_count": 5,
   "id": "9b8ea94c-2bc0-4e8a-8e33-984f04af6754",
   "metadata": {},
   "outputs": [
    {
     "name": "stdout",
     "output_type": "stream",
     "text": [
      "\n",
      " LinkedList- Insert At Begin...\n",
      "1.Insert\n",
      "2.Display\n",
      "3.delete by value\n",
      "4.Exit\n"
     ]
    },
    {
     "name": "stdin",
     "output_type": "stream",
     "text": [
      "Enter your choice 1\n",
      "Enter a value to insert: 10\n"
     ]
    },
    {
     "name": "stdout",
     "output_type": "stream",
     "text": [
      "10 Inserted at end/ will be first node\n",
      "\n",
      " LinkedList- Insert At Begin...\n",
      "1.Insert\n",
      "2.Display\n",
      "3.delete by value\n",
      "4.Exit\n"
     ]
    },
    {
     "name": "stdin",
     "output_type": "stream",
     "text": [
      "Enter your choice 1\n",
      "Enter a value to insert: 20\n"
     ]
    },
    {
     "name": "stdout",
     "output_type": "stream",
     "text": [
      "\n",
      " LinkedList- Insert At Begin...\n",
      "1.Insert\n",
      "2.Display\n",
      "3.delete by value\n",
      "4.Exit\n"
     ]
    },
    {
     "name": "stdin",
     "output_type": "stream",
     "text": [
      "Enter your choice 1\n",
      "Enter a value to insert: 30\n"
     ]
    },
    {
     "name": "stdout",
     "output_type": "stream",
     "text": [
      "\n",
      " LinkedList- Insert At Begin...\n",
      "1.Insert\n",
      "2.Display\n",
      "3.delete by value\n",
      "4.Exit\n"
     ]
    },
    {
     "name": "stdin",
     "output_type": "stream",
     "text": [
      "Enter your choice 1\n",
      "Enter a value to insert: 40\n"
     ]
    },
    {
     "name": "stdout",
     "output_type": "stream",
     "text": [
      "\n",
      " LinkedList- Insert At Begin...\n",
      "1.Insert\n",
      "2.Display\n",
      "3.delete by value\n",
      "4.Exit\n"
     ]
    },
    {
     "name": "stdin",
     "output_type": "stream",
     "text": [
      "Enter your choice 2\n"
     ]
    },
    {
     "name": "stdout",
     "output_type": "stream",
     "text": [
      "10---20---30---40---NOne\n",
      "\n",
      " LinkedList- Insert At Begin...\n",
      "1.Insert\n",
      "2.Display\n",
      "3.delete by value\n",
      "4.Exit\n"
     ]
    },
    {
     "name": "stdin",
     "output_type": "stream",
     "text": [
      "Enter your choice 3\n",
      "Enter the value , you want to delete 40\n"
     ]
    },
    {
     "ename": "NameError",
     "evalue": "name 'key' is not defined",
     "output_type": "error",
     "traceback": [
      "\u001b[1;31m---------------------------------------------------------------------------\u001b[0m",
      "\u001b[1;31mNameError\u001b[0m                                 Traceback (most recent call last)",
      "Cell \u001b[1;32mIn[5], line 60\u001b[0m\n\u001b[0;32m     58\u001b[0m \u001b[38;5;28;01melif\u001b[39;00m choice\u001b[38;5;241m==\u001b[39m\u001b[38;5;124m'\u001b[39m\u001b[38;5;124m3\u001b[39m\u001b[38;5;124m'\u001b[39m:\n\u001b[0;32m     59\u001b[0m     val\u001b[38;5;241m=\u001b[39m\u001b[38;5;28mint\u001b[39m(\u001b[38;5;28minput\u001b[39m(\u001b[38;5;124m\"\u001b[39m\u001b[38;5;124mEnter the value , you want to delete\u001b[39m\u001b[38;5;124m\"\u001b[39m))\n\u001b[1;32m---> 60\u001b[0m     ll\u001b[38;5;241m.\u001b[39mdeletevalue(key)\n\u001b[0;32m     61\u001b[0m \u001b[38;5;28;01melif\u001b[39;00m choice\u001b[38;5;241m==\u001b[39m\u001b[38;5;124m'\u001b[39m\u001b[38;5;124m4\u001b[39m\u001b[38;5;124m'\u001b[39m:\n\u001b[0;32m     62\u001b[0m     \u001b[38;5;28mprint\u001b[39m(\u001b[38;5;124m\"\u001b[39m\u001b[38;5;124mExit the opeartion...\u001b[39m\u001b[38;5;124m\"\u001b[39m)\n",
      "\u001b[1;31mNameError\u001b[0m: name 'key' is not defined"
     ]
    }
   ],
   "source": [
    "class Node:\n",
    "    def __init__(self,data):\n",
    "        self.data=data\n",
    "        self.next=None\n",
    "class LinkedList:\n",
    "    def __init__(self):\n",
    "        self.head=None\n",
    "    def iae(self,data):\n",
    "        newnode=Node(data)\n",
    "        if self.head is None:\n",
    "            self.head=newnode\n",
    "            print(f\"{data} Inserted at end/ will be first node\")\n",
    "            return\n",
    "        current=self.head\n",
    "        while current.next:\n",
    "            current=current.next\n",
    "        current.next=newnode\n",
    "    def deletevalue(self,key):\n",
    "        current=self.head\n",
    "        if not current:\n",
    "            print(\"empty---LL\")\n",
    "            return\n",
    "        if current.data==key:\n",
    "            self.head=current.next\n",
    "            print(f\"{key} deleted from the ll\")\n",
    "            return\n",
    "        prev=None\n",
    "        while current and current.data!=key:\n",
    "            prev=current\n",
    "            current=current.next\n",
    "        if not current:\n",
    "            print(f\"{key} not found in the ll\")\n",
    "            return\n",
    "        prev.next=current.next\n",
    "        print(f\"{key} deleted from the ll\")\n",
    "    def display(self):\n",
    "        current=self.head\n",
    "        if not current:\n",
    "            print(\"LiinkedList Empty\")\n",
    "            return\n",
    "        while current:\n",
    "            print(current.data,end=\"---\")\n",
    "            current=current.next\n",
    "        print(\"NOne\")\n",
    "ll=LinkedList()\n",
    "while True:\n",
    "    print(\"\\n LinkedList- Insert At Begin...\")\n",
    "    print(\"1.Insert\")\n",
    "    print(\"2.Display\")\n",
    "    print(\"3.delete by value\")\n",
    "    print(\"4.Exit\")\n",
    "    choice=input(\"Enter your choice\")\n",
    "    if choice=='1':\n",
    "        data=int(input(\"Enter a value to insert:\"))\n",
    "        ll.iae(data)\n",
    "    elif choice=='2':\n",
    "        ll.display()\n",
    "    elif choice=='3':\n",
    "        key=int(input(\"Enter the value , you want to delete\"))\n",
    "        ll.deletevalue(key)\n",
    "    elif choice=='4':\n",
    "        print(\"Exit the opeartion...\")\n",
    "        break\n",
    "    else:\n",
    "        print(\"Enter valid choice\")"
   ]
  },
  {
   "cell_type": "code",
   "execution_count": null,
   "id": "6e286238-c9ee-4dff-a16e-88819d22b258",
   "metadata": {},
   "outputs": [],
   "source": []
  }
 ],
 "metadata": {
  "kernelspec": {
   "display_name": "Python 3 (ipykernel)",
   "language": "python",
   "name": "python3"
  },
  "language_info": {
   "codemirror_mode": {
    "name": "ipython",
    "version": 3
   },
   "file_extension": ".py",
   "mimetype": "text/x-python",
   "name": "python",
   "nbconvert_exporter": "python",
   "pygments_lexer": "ipython3",
   "version": "3.12.7"
  }
 },
 "nbformat": 4,
 "nbformat_minor": 5
}
