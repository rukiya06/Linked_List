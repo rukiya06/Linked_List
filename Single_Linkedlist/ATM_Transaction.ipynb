{
 "cells": [
  {
   "cell_type": "code",
   "execution_count": 7,
   "id": "73bcf4cb-f437-4ef6-99fb-f92daa20dd3b",
   "metadata": {},
   "outputs": [
    {
     "name": "stdout",
     "output_type": "stream",
     "text": [
      "\n",
      "----ATM Transaction Menu-----\n",
      "1.Deposit\n",
      "2.WithDraw\n",
      "3.History\n",
      "4.Exit\n"
     ]
    },
    {
     "name": "stdin",
     "output_type": "stream",
     "text": [
      "Enter your choice: 1\n",
      "Enter amount to deposit: 50000\n"
     ]
    },
    {
     "name": "stdout",
     "output_type": "stream",
     "text": [
      "Deposit of ₹50000.0 recorded...\n",
      "\n",
      "----ATM Transaction Menu-----\n",
      "1.Deposit\n",
      "2.WithDraw\n",
      "3.History\n",
      "4.Exit\n"
     ]
    },
    {
     "name": "stdin",
     "output_type": "stream",
     "text": [
      "Enter your choice: 1\n",
      "Enter amount to deposit: 40000\n"
     ]
    },
    {
     "name": "stdout",
     "output_type": "stream",
     "text": [
      "Deposit of ₹40000.0 recorded...\n",
      "\n",
      "----ATM Transaction Menu-----\n",
      "1.Deposit\n",
      "2.WithDraw\n",
      "3.History\n",
      "4.Exit\n"
     ]
    },
    {
     "name": "stdin",
     "output_type": "stream",
     "text": [
      "Enter your choice: 2\n",
      "Enter amount to withdraw 10000\n"
     ]
    },
    {
     "name": "stdout",
     "output_type": "stream",
     "text": [
      "WithDraw of ₹10000.0 recorded...\n",
      "\n",
      "----ATM Transaction Menu-----\n",
      "1.Deposit\n",
      "2.WithDraw\n",
      "3.History\n",
      "4.Exit\n"
     ]
    },
    {
     "name": "stdin",
     "output_type": "stream",
     "text": [
      "Enter your choice: 3\n"
     ]
    },
    {
     "name": "stdout",
     "output_type": "stream",
     "text": [
      "\n",
      " Transaction History\n",
      "1 Deposit--₹50000.0\n",
      "2 Deposit--₹40000.0\n",
      "3 WithDraw--₹10000.0\n",
      "\n",
      "----ATM Transaction Menu-----\n",
      "1.Deposit\n",
      "2.WithDraw\n",
      "3.History\n",
      "4.Exit\n"
     ]
    },
    {
     "name": "stdin",
     "output_type": "stream",
     "text": [
      "Enter your choice: 4\n"
     ]
    },
    {
     "name": "stdout",
     "output_type": "stream",
     "text": [
      "End of transaction...Exit!!!\n"
     ]
    }
   ],
   "source": [
    "class Transaction:\n",
    "    def __init__(self,transaction_type,amount):\n",
    "        self.type=transaction_type\n",
    "        self.amount=amount\n",
    "        self.next=None\n",
    "class TransactionHistory:\n",
    "    def __init__(self):\n",
    "        self.head=None\n",
    "    def add_transaction(self,transaction_type,amount):\n",
    "        nn=Transaction(transaction_type,amount)\n",
    "        if not self.head:\n",
    "            self.head=nn\n",
    "        else:\n",
    "            current=self.head\n",
    "            while current.next:\n",
    "                current=current.next\n",
    "            current.next=nn\n",
    "        print(f\"{transaction_type} of ₹{amount} recorded...\")\n",
    "    def show_history(self):\n",
    "        if not self.head:\n",
    "            print(\"No Transaction found...\")\n",
    "            return \n",
    "        print(\"\\n Transaction History\")\n",
    "        current=self.head\n",
    "        count=1\n",
    "        while current:\n",
    "            print(f\"{count} {current.type}--₹{current.amount}\")\n",
    "            current=current.next\n",
    "            count+=1\n",
    "history=TransactionHistory()\n",
    "while True:\n",
    "    print(\"\\n----ATM Transaction Menu-----\")\n",
    "    print(\"1.Deposit\")\n",
    "    print(\"2.WithDraw\")\n",
    "    print(\"3.History\")\n",
    "    print(\"4.Exit\")\n",
    "    choice=input(\"Enter your choice:\")\n",
    "    if choice=='1':\n",
    "        amount=float(input(\"Enter amount to deposit:\"))\n",
    "        history.add_transaction(\"Deposit\", amount)\n",
    "    elif choice=='2':\n",
    "        amount=float(input(\"Enter amount to withdraw\"))\n",
    "        history.add_transaction(\"WithDraw\",amount)\n",
    "    elif choice=='3':\n",
    "        history.show_history()\n",
    "    elif choice=='4':\n",
    "        print(\"End of transaction...Exit!!!\")\n",
    "        break\n",
    "    else:\n",
    "        print(\"choose 1/2/3/4 only...\")"
   ]
  },
  {
   "cell_type": "code",
   "execution_count": null,
   "id": "0b866abe-10ac-4e54-b4ec-deab1f5f7dbb",
   "metadata": {},
   "outputs": [],
   "source": []
  }
 ],
 "metadata": {
  "kernelspec": {
   "display_name": "Python 3 (ipykernel)",
   "language": "python",
   "name": "python3"
  },
  "language_info": {
   "codemirror_mode": {
    "name": "ipython",
    "version": 3
   },
   "file_extension": ".py",
   "mimetype": "text/x-python",
   "name": "python",
   "nbconvert_exporter": "python",
   "pygments_lexer": "ipython3",
   "version": "3.12.7"
  }
 },
 "nbformat": 4,
 "nbformat_minor": 5
}
