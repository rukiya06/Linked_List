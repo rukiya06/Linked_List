{
 "cells": [
  {
   "cell_type": "code",
   "execution_count": 3,
   "id": "96c115c3-8bf3-400a-a34a-a3faeedcf840",
   "metadata": {},
   "outputs": [
    {
     "ename": "SyntaxError",
     "evalue": "'(' was never closed (818192359.py, line 52)",
     "output_type": "error",
     "traceback": [
      "\u001b[1;36m  Cell \u001b[1;32mIn[3], line 52\u001b[1;36m\u001b[0m\n\u001b[1;33m    val=int(input(\"Enter the value , you want to search\")\u001b[0m\n\u001b[1;37m           ^\u001b[0m\n\u001b[1;31mSyntaxError\u001b[0m\u001b[1;31m:\u001b[0m '(' was never closed\n"
     ]
    }
   ],
   "source": [
    "class Node:\n",
    "    def __init__(self,data):\n",
    "        self.data=data\n",
    "        self.next=None\n",
    "class LinkedList:\n",
    "    def __init__(self):\n",
    "        self.head=None\n",
    "    def iae(self,data):\n",
    "        newnode=Node(data)\n",
    "        if self.head is None:\n",
    "            self.head=newnode\n",
    "            print(f\"{data} Inserted at end/ will be first node\")\n",
    "            return\n",
    "        current=self.head\n",
    "        while current.next:\n",
    "            current=current.next\n",
    "        current.next=newnode\n",
    "    def search(self,key):\n",
    "        pos=1\n",
    "        current=self.head\n",
    "        while current:\n",
    "            if current.data==key:\n",
    "                print(f\"{key} found in ll\")\n",
    "                return True\n",
    "            current=current.next\n",
    "            pos+=1\n",
    "        print(f\"{key} not found in ll\")\n",
    "        return False\n",
    "    def display(self):\n",
    "        current=self.head\n",
    "        if not current:\n",
    "            print(\"LiinkedList Empty\")\n",
    "            return\n",
    "        while current:\n",
    "            print(current.data,end=\"---\")\n",
    "            current=current.next\n",
    "        print(\"NOne\")\n",
    "ll=LinkedList()\n",
    "while True:\n",
    "    print(\"\\n LinkedList- Insert At Begin...\")\n",
    "    print(\"1.Insert\")\n",
    "    print(\"2.Display\")\n",
    "    print(\"3.Search\")\n",
    "    print(\"4.Exit\")\n",
    "    choice=input(\"Enter your choice\")\n",
    "    if choice=='1':\n",
    "        data=int(input(\"Enter a value to insert:\"))\n",
    "        ll.iae(data)\n",
    "    elif choice=='2':\n",
    "        ll.display()\n",
    "    elif choice=='3':\n",
    "        val=int(input(\"Enter the value , you want to search\"))\n",
    "        ll.search(val)\n",
    "    elif choice=='4':\n",
    "        print(\"Exit the opeartion...\")\n",
    "        break\n",
    "    else:\n",
    "        print(\"Enter valid choice\")"
   ]
  },
  {
   "cell_type": "code",
   "execution_count": null,
   "id": "17eb24ef-28ea-45ac-9d7b-15f2895aea32",
   "metadata": {},
   "outputs": [],
   "source": []
  },
  {
   "cell_type": "code",
   "execution_count": null,
   "id": "b68468b8-0e27-4993-ac60-ab2fd83fb83f",
   "metadata": {},
   "outputs": [],
   "source": []
  }
 ],
 "metadata": {
  "kernelspec": {
   "display_name": "Python 3 (ipykernel)",
   "language": "python",
   "name": "python3"
  },
  "language_info": {
   "codemirror_mode": {
    "name": "ipython",
    "version": 3
   },
   "file_extension": ".py",
   "mimetype": "text/x-python",
   "name": "python",
   "nbconvert_exporter": "python",
   "pygments_lexer": "ipython3",
   "version": "3.12.7"
  }
 },
 "nbformat": 4,
 "nbformat_minor": 5
}
