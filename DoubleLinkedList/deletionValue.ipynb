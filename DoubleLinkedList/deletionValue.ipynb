{
 "cells": [
  {
   "cell_type": "code",
   "execution_count": 1,
   "id": "b9044ea3-6302-435f-9010-ccd3f9d11462",
   "metadata": {},
   "outputs": [
    {
     "name": "stdin",
     "output_type": "stream",
     "text": [
      "Enter the number of elements to insert at end : 4\n",
      "Enter element 1: 10\n",
      "Enter element 2: 20\n",
      "Enter element 3: 30\n",
      "Enter element 4: 40\n"
     ]
    },
    {
     "name": "stdout",
     "output_type": "stream",
     "text": [
      "Double Linked List:\n",
      "40 <--->30 <--->20 <--->10 <--->None\n"
     ]
    },
    {
     "name": "stdin",
     "output_type": "stream",
     "text": [
      "enter value to delete: 30\n"
     ]
    },
    {
     "name": "stdout",
     "output_type": "stream",
     "text": [
      "Deleted node with value 30\n",
      "Double Linked List:\n",
      "40 <--->20 <--->10 <--->None\n"
     ]
    }
   ],
   "source": [
    "class Node:\n",
    "    def __init__(self,data):\n",
    "        self.data=data\n",
    "        self.prev=None\n",
    "        self.next=None\n",
    "class DoublyLinkedList:\n",
    "    def __init__(self):\n",
    "        self.head=None\n",
    "    def iab(self,data):\n",
    "        newnode=Node(data)\n",
    "        if self.head is None:\n",
    "            self.head=newnode\n",
    "            return\n",
    "        newnode.next = self.head\n",
    "        self.head.prev = newnode\n",
    "        self.head = newnode\n",
    "    def dbv(self,value):\n",
    "        temp=self.head\n",
    "        if temp is None:\n",
    "            print(\"List is empty nothing to delete\")\n",
    "            return\n",
    "        while temp:\n",
    "            if temp.data==value:\n",
    "                if temp.prev is None:\n",
    "                    self.head=temp.next\n",
    "                    if self.head:\n",
    "                        self.head.prev=None\n",
    "                else:\n",
    "                    temp.prev.next=temp.next\n",
    "                    if temp.next:\n",
    "                        temp.next.prev=temp.prev\n",
    "                print(f\"Deleted node with value {value}\")\n",
    "                return\n",
    "            temp=temp.next\n",
    "    def display(self):\n",
    "        temp=self.head\n",
    "        print(\"Double Linked List:\")\n",
    "        while temp:\n",
    "            print(temp.data, end=\" <--->\")\n",
    "            temp=temp.next\n",
    "        print(\"None\")\n",
    "\n",
    "dll=DoublyLinkedList()\n",
    "n=int(input(\"Enter the number of elements to insert at end :\"))\n",
    "for i in range(n):\n",
    "    val=int(input(f\"Enter element {i+1}:\"))\n",
    "    dll.iab(val)\n",
    "dll.display()\n",
    "key=int(input(\"enter value to delete:\"))\n",
    "dll.dbv(key)\n",
    "dll.display()\n"
   ]
  },
  {
   "cell_type": "code",
   "execution_count": null,
   "id": "ad2968c7-1c68-48ef-9ec3-995553d84e34",
   "metadata": {},
   "outputs": [],
   "source": []
  }
 ],
 "metadata": {
  "kernelspec": {
   "display_name": "Python 3 (ipykernel)",
   "language": "python",
   "name": "python3"
  },
  "language_info": {
   "codemirror_mode": {
    "name": "ipython",
    "version": 3
   },
   "file_extension": ".py",
   "mimetype": "text/x-python",
   "name": "python",
   "nbconvert_exporter": "python",
   "pygments_lexer": "ipython3",
   "version": "3.12.7"
  }
 },
 "nbformat": 4,
 "nbformat_minor": 5
}
