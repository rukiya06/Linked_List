{
 "cells": [
  {
   "cell_type": "code",
   "execution_count": null,
   "id": "b2ec0262-51e8-46af-aadf-3d02f748b975",
   "metadata": {},
   "outputs": [
    {
     "name": "stdin",
     "output_type": "stream",
     "text": [
      "Enter the number of elements to insert at end : 4\n",
      "Enter element 1: 10\n"
     ]
    }
   ],
   "source": [
    "class Node:\n",
    "    def __init__(self,data):\n",
    "        self.data=data\n",
    "        self.prev=None\n",
    "        self.next=None\n",
    "class DoublyLinkedList:\n",
    "    def __init__(self):\n",
    "        self.head=None\n",
    "    def iap(self,pos,data):\n",
    "        newnode=Node(data)\n",
    "        if pos<=0:\n",
    "            print(\"Invalid position\")\n",
    "            return\n",
    "        if pos==1:\n",
    "            newnode.next=self.head\n",
    "            if self.head:\n",
    "                self.head.prev=newnode\n",
    "            self.head=newnode\n",
    "            return\n",
    "        temp=self.head\n",
    "        for _ in range(pos-2):\n",
    "            if temp is None:\n",
    "                print(\"Position off range\")\n",
    "                return\n",
    "            temp=temp.next\n",
    "        if temp is None:\n",
    "            print(\"no elements!!\")\n",
    "            return\n",
    "        newnode.next=temp.next\n",
    "        newnode.prev=temp\n",
    "        if temp.next:\n",
    "            temp.next.prev=newnode\n",
    "        temp.next=newnode\n",
    "        \n",
    "    def display(self):\n",
    "        temp=self.head\n",
    "        print(\"Double Linked List:\")\n",
    "        while temp:\n",
    "            print(temp.data, end=\" <--->\")\n",
    "            temp=temp.next\n",
    "        print(\"None\")\n",
    "\n",
    "dll=DoublyLinkedList()\n",
    "dll.iap(1,100)\n",
    "n=int(input(\"Enter the number of elements to insert at end :\"))\n",
    "for i in range(n):\n",
    "    val=int(input(f\"Enter element {i+1}:\"))\n",
    "    pos=int(input(f\"Enter the position to insert {val}:\"))\n",
    "    dll.iap(pos,val)\n",
    "dll.display()\n"
   ]
  },
  {
   "cell_type": "code",
   "execution_count": null,
   "id": "096d4ff3-1890-4b9e-86ae-80795e4fa3ea",
   "metadata": {},
   "outputs": [],
   "source": []
  }
 ],
 "metadata": {
  "kernelspec": {
   "display_name": "Python 3 (ipykernel)",
   "language": "python",
   "name": "python3"
  },
  "language_info": {
   "codemirror_mode": {
    "name": "ipython",
    "version": 3
   },
   "file_extension": ".py",
   "mimetype": "text/x-python",
   "name": "python",
   "nbconvert_exporter": "python",
   "pygments_lexer": "ipython3",
   "version": "3.12.7"
  }
 },
 "nbformat": 4,
 "nbformat_minor": 5
}
