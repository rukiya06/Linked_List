{
 "cells": [
  {
   "cell_type": "code",
   "execution_count": null,
   "id": "0a96d07c-37d9-48c6-878b-755bb123a103",
   "metadata": {},
   "outputs": [],
   "source": [
    "class Node:\n",
    "    def __init__(self,data):\n",
    "        self.data=data\n",
    "        self.prev=None\n",
    "        self.next=None\n",
    "class DoublyLinkedList:\n",
    "    def __init__(self):\n",
    "        self.head=None\n",
    "    def iae(self,data):\n",
    "        newnode=Node(data)\n",
    "        if self.head is None:\n",
    "            self.head=newnode\n",
    "            return\n",
    "        temp=self.head\n",
    "        while temp.next:\n",
    "            temp=temp.next\n",
    "        temp.next=newnode\n",
    "        newnode.prev=temp\n",
    "    def dae(self):\n",
    "         if self.head is None:\n",
    "             print(\"Can't perform delete in an empty list...\")\n",
    "             return\n",
    "         temp=self.head\n",
    "         while temp.next:\n",
    "             temp=temp.next\n",
    "         print(f\"Deleted: {temp.data}\")\n",
    "         if temp.prev:\n",
    "             temp.prev.next=None\n",
    "         else:\n",
    "             self.head=None\n",
    "    def display(self):\n",
    "        temp=self.head\n",
    "        print(\"Double Linked List:\")\n",
    "        while temp:\n",
    "            print(temp.data, end=\" <--->\")\n",
    "            temp=temp.next\n",
    "        print(\"None\")\n",
    "dll=DoublyLinkedList()\n",
    "n=int(input(\"Enter the number of elements to insert at end :\"))\n",
    "for i in range(n):\n",
    "    val=int(input(f\"Enter element {i+1}:\"))\n",
    "    dll.iae(val)\n",
    "dll.display()\n",
    "d=int(input(\"\\n how many times you want to perform delete operation:\"))\n",
    "for _ in range(d):\n",
    "    dll.dab()\n",
    "    dll.display()"
   ]
  }
 ],
 "metadata": {
  "kernelspec": {
   "display_name": "Python 3 (ipykernel)",
   "language": "python",
   "name": "python3"
  },
  "language_info": {
   "codemirror_mode": {
    "name": "ipython",
    "version": 3
   },
   "file_extension": ".py",
   "mimetype": "text/x-python",
   "name": "python",
   "nbconvert_exporter": "python",
   "pygments_lexer": "ipython3",
   "version": "3.12.7"
  }
 },
 "nbformat": 4,
 "nbformat_minor": 5
}
