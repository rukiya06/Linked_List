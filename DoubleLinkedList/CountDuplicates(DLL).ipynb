{
 "cells": [
  {
   "cell_type": "code",
   "execution_count": 3,
   "id": "d79865b3-4d5d-4130-afb1-050cb7d6269d",
   "metadata": {},
   "outputs": [
    {
     "name": "stdin",
     "output_type": "stream",
     "text": [
      "Enter the number of elements to insert at end : 6\n",
      "Enter element 1: 10\n",
      "Enter element 2: 20\n",
      "Enter element 3: 30\n",
      "Enter element 4: 20\n",
      "Enter element 5: 10\n",
      "Enter element 6: 40\n"
     ]
    },
    {
     "name": "stdout",
     "output_type": "stream",
     "text": [
      "Double Linked List:\n",
      "10 <--->20 <--->30 <--->20 <--->10 <--->40 <--->None\n",
      "Duplicate values and their frequencies:\n",
      "10 appears 2 times\n",
      "20 appears 2 times\n"
     ]
    }
   ],
   "source": [
    "class Node:\n",
    "    def __init__(self,data):\n",
    "        self.data=data\n",
    "        self.prev=None\n",
    "        self.next=None\n",
    "class DoublyLinkedList:\n",
    "    def __init__(self):\n",
    "        self.head=None\n",
    "    def iae(self,data):\n",
    "        newnode=Node(data)\n",
    "        if self.head is None:\n",
    "            self.head=newnode\n",
    "            return\n",
    "        temp=self.head\n",
    "        while temp.next:\n",
    "            temp=temp.next\n",
    "        temp.next=newnode\n",
    "        newnode.prev=temp\n",
    "    def count_duplicates(self):\n",
    "        freq = {}\n",
    "        temp = self.head\n",
    "        while temp:\n",
    "            freq[temp.data] = freq.get(temp.data, 0) + 1\n",
    "            temp = temp.next\n",
    "        \n",
    "        duplicates = {k:v for k,v in freq.items() if v > 1}\n",
    "        \n",
    "        if duplicates:\n",
    "            print(\"Duplicate values and their frequencies:\")\n",
    "            for val, count in duplicates.items():\n",
    "                print(f\"{val} appears {count} times\")\n",
    "        else:\n",
    "            print(\"No duplicates found.\")\n",
    "    def display(self):\n",
    "        temp=self.head\n",
    "        print(\"Double Linked List:\")\n",
    "        while temp:\n",
    "            print(temp.data, end=\" <--->\")\n",
    "            temp=temp.next\n",
    "        print(\"None\")\n",
    "\n",
    "dll=DoublyLinkedList()\n",
    "n=int(input(\"Enter the number of elements to insert at end :\"))\n",
    "for i in range(n):\n",
    "    val=int(input(f\"Enter element {i+1}:\"))\n",
    "    dll.iae(val)\n",
    "dll.display()\n",
    "dll.count_duplicates()"
   ]
  },
  {
   "cell_type": "code",
   "execution_count": null,
   "id": "c901d4f6-60b0-4211-82ca-c5f96625cc96",
   "metadata": {},
   "outputs": [],
   "source": []
  }
 ],
 "metadata": {
  "kernelspec": {
   "display_name": "Python 3 (ipykernel)",
   "language": "python",
   "name": "python3"
  },
  "language_info": {
   "codemirror_mode": {
    "name": "ipython",
    "version": 3
   },
   "file_extension": ".py",
   "mimetype": "text/x-python",
   "name": "python",
   "nbconvert_exporter": "python",
   "pygments_lexer": "ipython3",
   "version": "3.12.7"
  }
 },
 "nbformat": 4,
 "nbformat_minor": 5
}
