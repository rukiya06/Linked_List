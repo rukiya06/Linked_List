{
 "cells": [
  {
   "cell_type": "code",
   "execution_count": 5,
   "id": "a227a19a-94e4-4356-9fe8-bf52534e7034",
   "metadata": {},
   "outputs": [
    {
     "ename": "IndentationError",
     "evalue": "unindent does not match any outer indentation level (<string>, line 17)",
     "output_type": "error",
     "traceback": [
      "\u001b[1;36m  File \u001b[1;32m<string>:17\u001b[1;36m\u001b[0m\n\u001b[1;33m    def backtraverse(self):\u001b[0m\n\u001b[1;37m                           ^\u001b[0m\n\u001b[1;31mIndentationError\u001b[0m\u001b[1;31m:\u001b[0m unindent does not match any outer indentation level\n"
     ]
    }
   ],
   "source": [
    "class Node:\n",
    "    def __init__(self,data):\n",
    "        self.data=data\n",
    "        self.prev=None\n",
    "        self.next=None\n",
    "class DoublyLinkedList:\n",
    "    def __init__(self):\n",
    "        self.head=None\n",
    "    def iab(self,data):\n",
    "        newnode=Node(data)\n",
    "        if self.head is None:\n",
    "            self.head=newnode\n",
    "            return\n",
    "        newnode.next = self.head\n",
    "        self.head.prev = newnode\n",
    "        self.head = newnode\n",
    "    def backtraverse(self):\n",
    "        print(\"Values for traversing backward...\")\n",
    "        temp=self.head\n",
    "        if not temp:\n",
    "            print(\"Empty List\")\n",
    "            return\n",
    "        while temp.next:\n",
    "            temp=temp.next\n",
    "        while temp:\n",
    "            print(temp.data, end='<--->')\n",
    "            temp=temp.prev\n",
    "        print(\"None\")\n",
    "    def display(self):\n",
    "        temp=self.head\n",
    "        print(\"Double Linked List:\")\n",
    "        while temp:\n",
    "            print(temp.data, end=\" <--->\")\n",
    "            temp=temp.next\n",
    "        print(\"None\")\n",
    "\n",
    "dll=DoublyLinkedList()\n",
    "n=int(input(\"Enter the number of elements to insert at end :\"))\n",
    "for i in range(n):\n",
    "    val=int(input(f\"Enter element {i+1}:\"))\n",
    "    dll.iab(val)\n",
    "dll.display()\n",
    "dll.backtraverse()"
   ]
  },
  {
   "cell_type": "code",
   "execution_count": null,
   "id": "65da51ad-e51a-4110-9f6a-38fd186a63b1",
   "metadata": {},
   "outputs": [],
   "source": []
  }
 ],
 "metadata": {
  "kernelspec": {
   "display_name": "Python 3 (ipykernel)",
   "language": "python",
   "name": "python3"
  },
  "language_info": {
   "codemirror_mode": {
    "name": "ipython",
    "version": 3
   },
   "file_extension": ".py",
   "mimetype": "text/x-python",
   "name": "python",
   "nbconvert_exporter": "python",
   "pygments_lexer": "ipython3",
   "version": "3.12.7"
  }
 },
 "nbformat": 4,
 "nbformat_minor": 5
}
