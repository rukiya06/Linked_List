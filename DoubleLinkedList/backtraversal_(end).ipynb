{
 "cells": [
  {
   "cell_type": "code",
   "execution_count": 1,
   "id": "a12f7540-f226-41d0-ad34-3cc7a0d4ff6e",
   "metadata": {},
   "outputs": [
    {
     "name": "stdin",
     "output_type": "stream",
     "text": [
      "Enter the number of elements to insert in the end: 4\n",
      "Enter element 1: 11\n",
      "Enter element 2: 22\n",
      "Enter element 3: 33\n",
      "Enter element 4: 44\n"
     ]
    },
    {
     "name": "stdout",
     "output_type": "stream",
     "text": [
      "Doubly Linked List\n",
      "11<--->22<--->33<--->44<--->None\n",
      "Values for traversing backward...\n",
      "44<--->33<--->22<--->11<--->None\n"
     ]
    }
   ],
   "source": [
    "# at the end insertion back traversal of Doubly Linked List\n",
    "class Node:\n",
    "    def __init__(self,data):\n",
    "        self.data=data\n",
    "        self.prev=None\n",
    "        self.next=None\n",
    "class DoublyLinkedList:\n",
    "    def __init__(self):\n",
    "        self.head=None\n",
    "    def iae(self,data):\n",
    "        newnode=Node(data)\n",
    "        if self.head is None:\n",
    "            self.head=newnode\n",
    "            return\n",
    "        temp=self.head\n",
    "        while temp.next:\n",
    "            temp=temp.next\n",
    "        temp.next=newnode\n",
    "        newnode.prev=temp\n",
    "    def backtraverse(self):\n",
    "        print(\"Values for traversing backward...\")\n",
    "        temp=self.head\n",
    "        if not temp:\n",
    "            print(\"Empty List\")\n",
    "            return\n",
    "        while temp.next:\n",
    "            temp=temp.next\n",
    "        while temp:\n",
    "            print(temp.data, end='<--->')\n",
    "            temp=temp.prev\n",
    "        print(\"None\")\n",
    "    def display(self):\n",
    "        temp=self.head\n",
    "        print(\"Doubly Linked List\")\n",
    "        while temp:\n",
    "            print(temp.data, end='<--->')\n",
    "            temp=temp.next\n",
    "        print(\"None\")\n",
    "\n",
    "dll=DoublyLinkedList()\n",
    "n=int(input(\"Enter the number of elements to insert in the end:\"))\n",
    "for i in range(n):\n",
    "    val=int(input(f\"Enter element {i+1}:\"))\n",
    "    dll.iae(val)\n",
    "dll.display()\n",
    "dll.backtraverse()"
   ]
  },
  {
   "cell_type": "code",
   "execution_count": null,
   "id": "44b4b228-dc8b-474a-ba69-55db74f5fd6a",
   "metadata": {},
   "outputs": [],
   "source": []
  }
 ],
 "metadata": {
  "kernelspec": {
   "display_name": "Python 3 (ipykernel)",
   "language": "python",
   "name": "python3"
  },
  "language_info": {
   "codemirror_mode": {
    "name": "ipython",
    "version": 3
   },
   "file_extension": ".py",
   "mimetype": "text/x-python",
   "name": "python",
   "nbconvert_exporter": "python",
   "pygments_lexer": "ipython3",
   "version": "3.12.7"
  }
 },
 "nbformat": 4,
 "nbformat_minor": 5
}
